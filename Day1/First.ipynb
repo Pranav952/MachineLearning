{
 "cells": [
  {
   "cell_type": "code",
   "execution_count": 26,
   "id": "1f0a765d-a9b9-48b9-afe4-4937cbc6590a",
   "metadata": {},
   "outputs": [],
   "source": [
    "import pandas as pd"
   ]
  },
  {
   "cell_type": "code",
   "execution_count": 27,
   "id": "4f0bcf09-71b0-49c5-ba92-1979a3bbcd28",
   "metadata": {},
   "outputs": [],
   "source": [
    "import matplotlib.pyplot as plt"
   ]
  },
  {
   "cell_type": "code",
   "execution_count": 28,
   "id": "a3f71d58-7449-465a-b3e3-fac920f42aec",
   "metadata": {},
   "outputs": [],
   "source": [
    "data_set=pd.read_csv('Nepali_house_dataset.csv',usecols=['TITLE','LOCATION','PRICE'\n",
    "])"
   ]
  },
  {
   "cell_type": "code",
   "execution_count": 29,
   "id": "e0558bd9-7bc6-4158-87a7-90e4a556188d",
   "metadata": {},
   "outputs": [
    {
     "data": {
      "text/html": [
       "<div>\n",
       "<style scoped>\n",
       "    .dataframe tbody tr th:only-of-type {\n",
       "        vertical-align: middle;\n",
       "    }\n",
       "\n",
       "    .dataframe tbody tr th {\n",
       "        vertical-align: top;\n",
       "    }\n",
       "\n",
       "    .dataframe thead th {\n",
       "        text-align: right;\n",
       "    }\n",
       "</style>\n",
       "<table border=\"1\" class=\"dataframe\">\n",
       "  <thead>\n",
       "    <tr style=\"text-align: right;\">\n",
       "      <th></th>\n",
       "      <th>TITLE</th>\n",
       "      <th>LOCATION</th>\n",
       "      <th>PRICE</th>\n",
       "    </tr>\n",
       "  </thead>\n",
       "  <tbody>\n",
       "    <tr>\n",
       "      <th>0</th>\n",
       "      <td>House for Sale</td>\n",
       "      <td>Imadol, Lalitpur</td>\n",
       "      <td>Rs. 2.9 Cr</td>\n",
       "    </tr>\n",
       "    <tr>\n",
       "      <th>1</th>\n",
       "      <td>House for Sale</td>\n",
       "      <td>Satdobato, Lalitpur</td>\n",
       "      <td>Rs. 4.75 Cr</td>\n",
       "    </tr>\n",
       "    <tr>\n",
       "      <th>2</th>\n",
       "      <td>4 BHK House for Sale</td>\n",
       "      <td>Imadol, Lalitpur</td>\n",
       "      <td>Rs. 1.99 Cr</td>\n",
       "    </tr>\n",
       "    <tr>\n",
       "      <th>3</th>\n",
       "      <td>Bungalow House for Sale</td>\n",
       "      <td>Bhaisepati, Lalitpur</td>\n",
       "      <td>Rs. 4 Cr</td>\n",
       "    </tr>\n",
       "    <tr>\n",
       "      <th>4</th>\n",
       "      <td>House for Rent</td>\n",
       "      <td>Maharajgunj, Kathmandu</td>\n",
       "      <td>Rs. 12000000</td>\n",
       "    </tr>\n",
       "    <tr>\n",
       "      <th>...</th>\n",
       "      <td>...</td>\n",
       "      <td>...</td>\n",
       "      <td>...</td>\n",
       "    </tr>\n",
       "    <tr>\n",
       "      <th>3413</th>\n",
       "      <td>Padma Colony Phase III</td>\n",
       "      <td>Sitapiala,  Kathmandu</td>\n",
       "      <td>Rs. 26,000,000</td>\n",
       "    </tr>\n",
       "    <tr>\n",
       "      <th>3414</th>\n",
       "      <td>Bhatbhateni Apartment</td>\n",
       "      <td>Bhatbhateni,  Kathmandu</td>\n",
       "      <td>Rs. 30,000,000</td>\n",
       "    </tr>\n",
       "    <tr>\n",
       "      <th>3415</th>\n",
       "      <td>स्यूचाटार</td>\n",
       "      <td>Syuchatar,  Kathmandu</td>\n",
       "      <td>Rs. 16000000</td>\n",
       "    </tr>\n",
       "    <tr>\n",
       "      <th>3416</th>\n",
       "      <td>Sano Bharayang Colony</td>\n",
       "      <td>Sano Bharayang,  Kathmandu</td>\n",
       "      <td>Rs. 3.5 Cr</td>\n",
       "    </tr>\n",
       "    <tr>\n",
       "      <th>3417</th>\n",
       "      <td>Buddhanilkatha Banglow</td>\n",
       "      <td>Budhanilkantha,  Kathmandu</td>\n",
       "      <td>Rs. 48000000</td>\n",
       "    </tr>\n",
       "  </tbody>\n",
       "</table>\n",
       "<p>3418 rows × 3 columns</p>\n",
       "</div>"
      ],
      "text/plain": [
       "                        TITLE                     LOCATION           PRICE\n",
       "0              House for Sale             Imadol, Lalitpur     Rs. 2.9 Cr \n",
       "1              House for Sale          Satdobato, Lalitpur    Rs. 4.75 Cr \n",
       "2        4 BHK House for Sale             Imadol, Lalitpur    Rs. 1.99 Cr \n",
       "3     Bungalow House for Sale         Bhaisepati, Lalitpur       Rs. 4 Cr \n",
       "4              House for Rent       Maharajgunj, Kathmandu    Rs. 12000000\n",
       "...                       ...                          ...             ...\n",
       "3413   Padma Colony Phase III        Sitapiala,  Kathmandu  Rs. 26,000,000\n",
       "3414    Bhatbhateni Apartment      Bhatbhateni,  Kathmandu  Rs. 30,000,000\n",
       "3415                स्यूचाटार        Syuchatar,  Kathmandu    Rs. 16000000\n",
       "3416    Sano Bharayang Colony   Sano Bharayang,  Kathmandu      Rs. 3.5 Cr\n",
       "3417   Buddhanilkatha Banglow   Budhanilkantha,  Kathmandu    Rs. 48000000\n",
       "\n",
       "[3418 rows x 3 columns]"
      ]
     },
     "execution_count": 29,
     "metadata": {},
     "output_type": "execute_result"
    }
   ],
   "source": [
    "data_set"
   ]
  },
  {
   "cell_type": "code",
   "execution_count": 30,
   "id": "f30c7cf6-aee5-4f26-9ec5-d31c9073ffa6",
   "metadata": {},
   "outputs": [
    {
     "data": {
      "text/plain": [
       "<bound method DataFrame.info of                         TITLE                     LOCATION           PRICE\n",
       "0              House for Sale             Imadol, Lalitpur     Rs. 2.9 Cr \n",
       "1              House for Sale          Satdobato, Lalitpur    Rs. 4.75 Cr \n",
       "2        4 BHK House for Sale             Imadol, Lalitpur    Rs. 1.99 Cr \n",
       "3     Bungalow House for Sale         Bhaisepati, Lalitpur       Rs. 4 Cr \n",
       "4              House for Rent       Maharajgunj, Kathmandu    Rs. 12000000\n",
       "...                       ...                          ...             ...\n",
       "3413   Padma Colony Phase III        Sitapiala,  Kathmandu  Rs. 26,000,000\n",
       "3414    Bhatbhateni Apartment      Bhatbhateni,  Kathmandu  Rs. 30,000,000\n",
       "3415                स्यूचाटार        Syuchatar,  Kathmandu    Rs. 16000000\n",
       "3416    Sano Bharayang Colony   Sano Bharayang,  Kathmandu      Rs. 3.5 Cr\n",
       "3417   Buddhanilkatha Banglow   Budhanilkantha,  Kathmandu    Rs. 48000000\n",
       "\n",
       "[3418 rows x 3 columns]>"
      ]
     },
     "execution_count": 30,
     "metadata": {},
     "output_type": "execute_result"
    }
   ],
   "source": [
    "data_set.info"
   ]
  },
  {
   "cell_type": "code",
   "execution_count": 31,
   "id": "c0616eaa-5d99-4a60-93bf-a8e32522b095",
   "metadata": {},
   "outputs": [
    {
     "name": "stdout",
     "output_type": "stream",
     "text": [
      "<class 'pandas.core.frame.DataFrame'>\n",
      "RangeIndex: 3418 entries, 0 to 3417\n",
      "Data columns (total 3 columns):\n",
      " #   Column    Non-Null Count  Dtype \n",
      "---  ------    --------------  ----- \n",
      " 0   TITLE     3418 non-null   object\n",
      " 1   LOCATION  3418 non-null   object\n",
      " 2   PRICE     3418 non-null   object\n",
      "dtypes: object(3)\n",
      "memory usage: 80.2+ KB\n"
     ]
    }
   ],
   "source": [
    "data_set.info()"
   ]
  },
  {
   "cell_type": "code",
   "execution_count": 32,
   "id": "acb4e468-a627-436c-8b77-26b4b3c93676",
   "metadata": {},
   "outputs": [
    {
     "data": {
      "text/plain": [
       "(3418, 3)"
      ]
     },
     "execution_count": 32,
     "metadata": {},
     "output_type": "execute_result"
    }
   ],
   "source": [
    "data_set.shape"
   ]
  },
  {
   "cell_type": "code",
   "execution_count": 33,
   "id": "7d367d93-eb10-40b7-9438-a8a83a872c2f",
   "metadata": {},
   "outputs": [
    {
     "data": {
      "text/html": [
       "<div>\n",
       "<style scoped>\n",
       "    .dataframe tbody tr th:only-of-type {\n",
       "        vertical-align: middle;\n",
       "    }\n",
       "\n",
       "    .dataframe tbody tr th {\n",
       "        vertical-align: top;\n",
       "    }\n",
       "\n",
       "    .dataframe thead th {\n",
       "        text-align: right;\n",
       "    }\n",
       "</style>\n",
       "<table border=\"1\" class=\"dataframe\">\n",
       "  <thead>\n",
       "    <tr style=\"text-align: right;\">\n",
       "      <th></th>\n",
       "      <th>TITLE</th>\n",
       "      <th>LOCATION</th>\n",
       "      <th>PRICE</th>\n",
       "    </tr>\n",
       "  </thead>\n",
       "  <tbody>\n",
       "    <tr>\n",
       "      <th>2732</th>\n",
       "      <td>Commercial house on sale in Patitar, Guheshwor...</td>\n",
       "      <td>Patitar, Kathmandu</td>\n",
       "      <td>Rs. 6.7 Cr</td>\n",
       "    </tr>\n",
       "    <tr>\n",
       "      <th>1688</th>\n",
       "      <td>Commercial building for rent at Jhamsikhel</td>\n",
       "      <td>Jhamsikhel, Lalitpur</td>\n",
       "      <td>Rs. 1.9 Lac/m</td>\n",
       "    </tr>\n",
       "    <tr>\n",
       "      <th>2437</th>\n",
       "      <td>Bungalow house for sale at Ganesh Chowk, Budha...</td>\n",
       "      <td>Ganesh Chowk, Kathmandu</td>\n",
       "      <td>Rs. 3.25 Cr</td>\n",
       "    </tr>\n",
       "    <tr>\n",
       "      <th>3302</th>\n",
       "      <td>Kohinoor House for Sale</td>\n",
       "      <td>Bafal,  Kathmandu</td>\n",
       "      <td>Rs. 40000000</td>\n",
       "    </tr>\n",
       "    <tr>\n",
       "      <th>1582</th>\n",
       "      <td>Furnished bungalow for rent in Chapali, Bhadra...</td>\n",
       "      <td>Chapali, Kathmandu</td>\n",
       "      <td>Rs. 95,000 /m</td>\n",
       "    </tr>\n",
       "  </tbody>\n",
       "</table>\n",
       "</div>"
      ],
      "text/plain": [
       "                                                  TITLE  \\\n",
       "2732  Commercial house on sale in Patitar, Guheshwor...   \n",
       "1688         Commercial building for rent at Jhamsikhel   \n",
       "2437  Bungalow house for sale at Ganesh Chowk, Budha...   \n",
       "3302                            Kohinoor House for Sale   \n",
       "1582  Furnished bungalow for rent in Chapali, Bhadra...   \n",
       "\n",
       "                     LOCATION          PRICE  \n",
       "2732       Patitar, Kathmandu    Rs. 6.7 Cr   \n",
       "1688     Jhamsikhel, Lalitpur  Rs. 1.9 Lac/m  \n",
       "2437  Ganesh Chowk, Kathmandu   Rs. 3.25 Cr   \n",
       "3302        Bafal,  Kathmandu   Rs. 40000000  \n",
       "1582       Chapali, Kathmandu  Rs. 95,000 /m  "
      ]
     },
     "execution_count": 33,
     "metadata": {},
     "output_type": "execute_result"
    }
   ],
   "source": [
    "data_set.sample(5)"
   ]
  },
  {
   "cell_type": "code",
   "execution_count": 34,
   "id": "d1af05a2-1fd2-46bf-b4d4-e2326cc30200",
   "metadata": {},
   "outputs": [
    {
     "data": {
      "text/plain": [
       "TITLE       0\n",
       "LOCATION    0\n",
       "PRICE       0\n",
       "dtype: int64"
      ]
     },
     "execution_count": 34,
     "metadata": {},
     "output_type": "execute_result"
    }
   ],
   "source": [
    "data_set.isnull().sum()"
   ]
  },
  {
   "cell_type": "code",
   "execution_count": 35,
   "id": "4ca7b5c5-1c33-4fce-9f33-2b5b1fbdac98",
   "metadata": {},
   "outputs": [
    {
     "data": {
      "text/html": [
       "<div>\n",
       "<style scoped>\n",
       "    .dataframe tbody tr th:only-of-type {\n",
       "        vertical-align: middle;\n",
       "    }\n",
       "\n",
       "    .dataframe tbody tr th {\n",
       "        vertical-align: top;\n",
       "    }\n",
       "\n",
       "    .dataframe thead th {\n",
       "        text-align: right;\n",
       "    }\n",
       "</style>\n",
       "<table border=\"1\" class=\"dataframe\">\n",
       "  <thead>\n",
       "    <tr style=\"text-align: right;\">\n",
       "      <th></th>\n",
       "      <th>TITLE</th>\n",
       "      <th>LOCATION</th>\n",
       "      <th>PRICE</th>\n",
       "    </tr>\n",
       "  </thead>\n",
       "  <tbody>\n",
       "    <tr>\n",
       "      <th>count</th>\n",
       "      <td>3418</td>\n",
       "      <td>3418</td>\n",
       "      <td>3418</td>\n",
       "    </tr>\n",
       "    <tr>\n",
       "      <th>unique</th>\n",
       "      <td>2895</td>\n",
       "      <td>514</td>\n",
       "      <td>537</td>\n",
       "    </tr>\n",
       "    <tr>\n",
       "      <th>top</th>\n",
       "      <td>House for Sale</td>\n",
       "      <td>Imadol, Lalitpur</td>\n",
       "      <td>Price on call</td>\n",
       "    </tr>\n",
       "    <tr>\n",
       "      <th>freq</th>\n",
       "      <td>183</td>\n",
       "      <td>234</td>\n",
       "      <td>188</td>\n",
       "    </tr>\n",
       "  </tbody>\n",
       "</table>\n",
       "</div>"
      ],
      "text/plain": [
       "                  TITLE          LOCATION          PRICE\n",
       "count              3418              3418           3418\n",
       "unique             2895               514            537\n",
       "top      House for Sale  Imadol, Lalitpur  Price on call\n",
       "freq                183               234            188"
      ]
     },
     "execution_count": 35,
     "metadata": {},
     "output_type": "execute_result"
    }
   ],
   "source": [
    "data_set.describe()"
   ]
  },
  {
   "cell_type": "code",
   "execution_count": 36,
   "id": "1fab1003-2fee-4a62-8926-422dc23bef9e",
   "metadata": {},
   "outputs": [
    {
     "data": {
      "text/plain": [
       "np.int64(43)"
      ]
     },
     "execution_count": 36,
     "metadata": {},
     "output_type": "execute_result"
    }
   ],
   "source": [
    "data_set.duplicated().sum()"
   ]
  },
  {
   "cell_type": "code",
   "execution_count": null,
   "id": "4e38c4ce-7626-467b-bdea-159e2ecfdb3b",
   "metadata": {},
   "outputs": [],
   "source": []
  }
 ],
 "metadata": {
  "kernelspec": {
   "display_name": "Python 3 (ipykernel)",
   "language": "python",
   "name": "python3"
  },
  "language_info": {
   "codemirror_mode": {
    "name": "ipython",
    "version": 3
   },
   "file_extension": ".py",
   "mimetype": "text/x-python",
   "name": "python",
   "nbconvert_exporter": "python",
   "pygments_lexer": "ipython3",
   "version": "3.12.7"
  }
 },
 "nbformat": 4,
 "nbformat_minor": 5
}
